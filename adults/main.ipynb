{
 "cells": [
  {
   "cell_type": "markdown",
   "id": "b4937110",
   "metadata": {
    "inputHidden": false
   },
   "source": [
    "# 成年人死亡率预测\n",
    "\n",
    "<br>\n",
    "<hr>"
   ]
  },
  {
   "cell_type": "markdown",
   "id": "92f0253c",
   "metadata": {
    "inputHidden": false
   },
   "source": [
    "## 1. 实验介绍"
   ]
  },
  {
   "cell_type": "markdown",
   "id": "1ba09b78",
   "metadata": {
    "inputHidden": false
   },
   "source": [
    "### 1.1 实验背景"
   ]
  },
  {
   "cell_type": "markdown",
   "id": "1d1205a5",
   "metadata": {
    "inputHidden": false
   },
   "source": [
    "成年人死亡率指的是每一千人中15岁至60岁死亡的概率（数学期望）。这里我们给出了世界卫生组织（WHO）下属的全球卫生观察站（GHO）数据存储库跟踪的所有国家健康状况以及许多其他相关因素。要求利用训练数据建立回归模型，并预测成年人死亡率（**Adult Mortality**）。\n",
    "\n",
    "### 1.2 实验要求\n",
    "\n",
    "1. 训练数据包含`2336`条记录和`22`个字段，对训练数据进行一定的可视化数据分析（章节2.2）\n",
    "2. 利用训练数据，选择合适的信息作为特征建立回归模型，并预测测试数据成年人死亡率\n",
    "3. 利用`MO`平台进行模型性能评估\n",
    "\n",
    "### 1.3 实验环境\n",
    "可以使用基于 Python 的 `Pandas` 库进行数据相关处理，使用 `Sklearn` 库进行相关模型构建。\n",
    "\n",
    "\n",
    "### 1.4 注意事项\n",
    "1. 推荐使用基于 Python 的`Sklearn`库进行相关实验\n",
    "2. 数据中可能会有一些字段的值存在缺失"
   ]
  },
  {
   "cell_type": "markdown",
   "id": "7dc185e7",
   "metadata": {
    "inputHidden": false
   },
   "source": [
    "## 2. 实验部分"
   ]
  },
  {
   "cell_type": "markdown",
   "id": "0df7b8fb",
   "metadata": {
    "inputHidden": false
   },
   "source": [
    "### 2.1 导入相关包"
   ]
  },
  {
   "cell_type": "code",
   "execution_count": 3,
   "id": "93312532",
   "metadata": {},
   "outputs": [],
   "source": [
    "import pandas as pd\n",
    "import sklearn\n",
    "import numpy as np\n",
    "\n",
    "from sklearn.impute import SimpleImputer\n",
    "from sklearn.preprocessing import MinMaxScaler\n",
    "from sklearn.linear_model import LinearRegression\n",
    "from sklearn.metrics import mean_squared_error, r2_score\n",
    "\n",
    "import joblib\n"
   ]
  },
  {
   "cell_type": "markdown",
   "id": "e21803eb",
   "metadata": {
    "inputHidden": false
   },
   "source": [
    "### 2.2 数据读取和可视化分析"
   ]
  },
  {
   "cell_type": "code",
   "execution_count": 2,
   "id": "1c68e8b7",
   "metadata": {},
   "outputs": [],
   "source": [
    "# 读取数据集\n",
    "train_data = pd.read_csv('./data/train_data.csv')\n"
   ]
  },
  {
   "cell_type": "code",
   "execution_count": null,
   "id": "0f273489",
   "metadata": {},
   "outputs": [],
   "source": [
    "train_data\n"
   ]
  },
  {
   "cell_type": "markdown",
   "id": "fb3843bb",
   "metadata": {
    "inputHidden": false
   },
   "source": [
    "可以看到训练数据包含2336条记录和22个字段，每个字段含义说明如下：\n",
    "1. Country：国家\n",
    "2. Year：年份\n",
    "3. Status：发达国家或发展中国家\n",
    "4. Life expectancy：预期寿命\n",
    "5. Infant deaths：每千人口中的婴儿死亡人数\n",
    "6. Alcohol：人均酒精消费量（以升纯酒精为单位）\n",
    "7. percentage expenditure：卫生支出占人均国内生产总值的百分比\n",
    "8. Hepatitis B：一岁儿童乙型肝炎免疫疫苗接种率\n",
    "9. Measles：麻疹每1000人报告的病例数\n",
    "10. BMI：所有人群平均BMI指数\n",
    "11. under-five deaths：每千人口中五岁以下死亡人数\n",
    "12. Polio：1岁儿童脊髓灰质炎免疫覆盖率（%）\n",
    "13. Total expenditure：政府卫生支出占政府总支出的百分比\n",
    "14. Diphtheria：1岁儿童白喉、破伤风类毒素和百日咳免疫接种率（%）\n",
    "15. HIV/AIDS：每千名活产婴儿死于艾滋病毒/艾滋病（0-4岁）\n",
    "16. GDP：人均国内生产总值（美元）\n",
    "17. Population：人口\n",
    "18. thinness 1-19 years：10至19岁儿童和青少年的消瘦流行率\n",
    "19. thinness 5-9 years：5至9岁儿童中的消瘦流行率\n",
    "20. Income composition of resources：财力收入构成方面的人类发展指数（从0到1）\n",
    "21. Schooling：受教育年限\n",
    "22. Adult Mortality：成人死亡率（每1000人中15至60岁死亡的概率）\n",
    "\n",
    "其中`Adult Mortality`字段为要预测的标签(`label`)"
   ]
  },
  {
   "cell_type": "code",
   "execution_count": null,
   "id": "bcc7c3ff",
   "metadata": {},
   "outputs": [],
   "source": [
    "# 查看数据集大小\n",
    "train_data.shape\n"
   ]
  },
  {
   "cell_type": "code",
   "execution_count": null,
   "id": "89b7c64f",
   "metadata": {},
   "outputs": [],
   "source": [
    "# 计算各个特征之间的皮尔森相关系数\n",
    "column_name = ['Year', 'Life expectancy ', 'infant deaths', 'Alcohol',\n",
    "           'percentage expenditure', 'Hepatitis B', 'Measles ', ' BMI ', 'under-five deaths ',\n",
    "           'Polio', 'Total expenditure', 'Diphtheria ', ' HIV/AIDS', 'GDP', 'Population',\n",
    "           ' thinness  1-19 years', ' thinness 5-9 years', 'Income composition of resources',\n",
    "           'Schooling']\n",
    "train_data[column_name].corr()\n"
   ]
  },
  {
   "cell_type": "code",
   "execution_count": null,
   "id": "ae76f76e",
   "metadata": {},
   "outputs": [],
   "source": [
    "# 将相关性矩阵绘制成热力图\n",
    "corr = train_data[column_name].corr()\n",
    "corr.style.background_gradient(cmap='coolwarm')\n"
   ]
  },
  {
   "cell_type": "code",
   "execution_count": null,
   "id": "213c9987",
   "metadata": {},
   "outputs": [],
   "source": [
    "# 利用seaborn检查可视化数据之间的依赖关系\n",
    "import seaborn as sns\n",
    "sns.pairplot(train_data[column_name])\n"
   ]
  },
  {
   "cell_type": "markdown",
   "id": "970f4d51",
   "metadata": {
    "inputHidden": false
   },
   "source": [
    "### 2.3 模型拟合和成年人死亡率预测"
   ]
  },
  {
   "cell_type": "markdown",
   "id": "4a431462",
   "metadata": {
    "inputHidden": false
   },
   "source": [
    "要求同学们利用训练数据来建立回归模型，我们已经给出了一个可运行的基础代码，同学们可以对此进行参考"
   ]
  },
  {
   "cell_type": "code",
   "execution_count": 4,
   "id": "631d4bdf",
   "metadata": {},
   "outputs": [],
   "source": [
    "train_data = pd.read_csv('./data/train_data.csv')\n",
    "model_filename = './model.pkl'\n",
    "imputer_filename = './imputer.pkl'\n",
    "scaler_filename = './scaler.pkl'\n"
   ]
  },
  {
   "cell_type": "code",
   "execution_count": 10,
   "id": "b0f4ff21",
   "metadata": {},
   "outputs": [],
   "source": [
    "def preprocess_data(data, imputer=None, scaler=None):\n",
    "\n",
    "    column_name = ['Year', 'Life expectancy ', 'infant deaths', 'Alcohol',\n",
    "               'percentage expenditure', 'Hepatitis B', 'Measles ', ' BMI ', 'under-five deaths ',\n",
    "               'Polio', 'Total expenditure', 'Diphtheria ', ' HIV/AIDS', 'GDP', 'Population',\n",
    "               ' thinness  1-19 years', ' thinness 5-9 years', 'Income composition of resources',\n",
    "               'Schooling']\n",
    "    data = data.drop([\"Country\", \"Status\"], axis=1)\n",
    "\n",
    "    if imputer==None:\n",
    "        imputer = SimpleImputer(strategy='mean', missing_values=np.nan)\n",
    "        imputer = imputer.fit(data[column_name])\n",
    "    data[column_name] = imputer.transform(data[column_name])\n",
    "\n",
    "    if scaler==None:\n",
    "        scaler = MinMaxScaler()\n",
    "        scaler = scaler.fit(data)\n",
    "    data_norm = pd.DataFrame(scaler.transform(data), columns=data.columns)\n",
    "\n",
    "    data_norm = data_norm.drop(['Year'], axis = 1)\n",
    "\n",
    "    return data_norm, imputer, scaler\n"
   ]
  },
  {
   "cell_type": "code",
   "execution_count": 8,
   "id": "1ceca9ae",
   "metadata": {},
   "outputs": [],
   "source": [
    "from sklearn.ensemble import RandomForestRegressor\n",
    "from sklearn.model_selection import GridSearchCV\n",
    "\n",
    "def model_fit(train_data):\n",
    "\n",
    "    train_y = train_data.iloc[:,-1].values\n",
    "    train_data = train_data.drop([\"Adult Mortality\"], axis=1)\n",
    "    train_data_norm, imputer, scaler = preprocess_data(train_data)\n",
    "\n",
    "    train_x = train_data_norm.values\n",
    "\n",
    "    # regressor = LinearRegression()\n",
    "    # regressor.fit(train_x, train_y)\n",
    "\n",
    "\n",
    "    regressor = RandomForestRegressor(random_state=42)\n",
    "    param_grid = {\n",
    "        'n_estimators': [100, 200],\n",
    "        'max_depth': [None, 10, 20],\n",
    "        'min_samples_split': [2, 5]\n",
    "    }\n",
    "    grid_search = GridSearchCV(estimator=regressor,\n",
    "                               param_grid=param_grid,\n",
    "                               cv=5,\n",
    "                               scoring='neg_mean_squared_error',\n",
    "                               n_jobs=-1)\n",
    "    \n",
    "    grid_search.fit(train_x, train_y)\n",
    "    best_regressor = grid_search.best_estimator_\n",
    "\n",
    "    joblib.dump(best_regressor, model_filename)\n",
    "    joblib.dump(imputer, imputer_filename)\n",
    "    joblib.dump(scaler, scaler_filename)\n",
    "\n",
    "    return regressor\n"
   ]
  },
  {
   "cell_type": "code",
   "execution_count": 8,
   "id": "6de5e67c",
   "metadata": {},
   "outputs": [],
   "source": [
    "def predict(test_data, filename):\n",
    "    loaded_model = joblib.load(model_filename)\n",
    "    imputer = joblib.load(imputer_filename)\n",
    "    scaler = joblib.load(scaler_filename)\n",
    "\n",
    "    test_data_norm, _, _ = preprocess_data(test_data, imputer, scaler)\n",
    "    test_x = test_data_norm.values\n",
    "    predictions = loaded_model.predict(test_x)\n",
    "\n",
    "    return predictions\n"
   ]
  },
  {
   "cell_type": "code",
   "execution_count": 10,
   "id": "03680d88",
   "metadata": {},
   "outputs": [],
   "source": [
    "model = model_fit(train_data)\n"
   ]
  },
  {
   "cell_type": "code",
   "execution_count": null,
   "id": "1aaf0e27",
   "metadata": {},
   "outputs": [],
   "source": [
    "# 打印模型的截距\n",
    "print(model.intercept_)\n"
   ]
  },
  {
   "cell_type": "code",
   "execution_count": null,
   "id": "3ccfb1bf",
   "metadata": {},
   "outputs": [],
   "source": [
    "# 打印模型的斜率\n",
    "print(model.coef_)\n"
   ]
  },
  {
   "cell_type": "markdown",
   "id": "b771a66c",
   "metadata": {
    "inputHidden": false
   },
   "source": [
    "### 2.4 模型性能评估"
   ]
  },
  {
   "cell_type": "markdown",
   "id": "01989b4b",
   "metadata": {
    "inputHidden": false
   },
   "source": [
    "我们可以看一下模型在训练集上的表现："
   ]
  },
  {
   "cell_type": "code",
   "execution_count": 11,
   "id": "db17316a",
   "metadata": {},
   "outputs": [
    {
     "name": "stdout",
     "output_type": "stream",
     "text": [
      "MSE is 897.040289182684\n",
      "R2 score is 0.9423002923058583\n"
     ]
    }
   ],
   "source": [
    "label = train_data.loc[:,'Adult Mortality']\n",
    "data = train_data.iloc[:,:-1]\n",
    "y_pred = predict(data, './model.pkl')\n",
    "r2 = r2_score(label, y_pred)\n",
    "mse = mean_squared_error(label, y_pred)\n",
    "print(\"MSE is {}\".format(mse))\n",
    "print(\"R2 score is {}\".format(r2))\n"
   ]
  },
  {
   "cell_type": "markdown",
   "id": "f4762515",
   "metadata": {
    "inputHidden": false
   },
   "source": [
    "## 3. 作业提交"
   ]
  },
  {
   "cell_type": "markdown",
   "id": "af9ed37b",
   "metadata": {
    "inputHidden": false
   },
   "source": [
    "**作业要求及注意事项**：    \n",
    "             \n",
    "1. 点击左侧栏提交作业后点击【生成文件】则需要勾选与预测 predict() 函数的 cell相关的其它cell ，并将其转化成为 main.py 文件。                       \n",
    "2. 请导入必要的包和第三方库以及该模型所依赖的 py 文件 (包括此文件中曾经导入过的)。             \n",
    "3. 请加载你认为训练最佳的模型，即请按要求填写模型路径。              \n",
    "4. `predict()` 函数的输入输出及函数名称请不要改动。\n",
    "5. 提交的作业包括【程序报告.pdf】和对应的ipynb文件"
   ]
  },
  {
   "cell_type": "markdown",
   "id": "94b79ff7",
   "metadata": {
    "inputHidden": false
   },
   "source": [
    "===========================================  **模型预测代码答题区域**  ===========================================  \n",
    "在下方的代码块中编写 **模型预测** 部分的代码，请勿在别的位置作答"
   ]
  },
  {
   "cell_type": "code",
   "execution_count": 6,
   "id": "1e3b74cb",
   "metadata": {
    "select": true
   },
   "outputs": [],
   "source": [
    "import pandas as pd\n",
    "import sklearn\n",
    "import numpy as np\n",
    "\n",
    "from sklearn.impute import SimpleImputer\n",
    "from sklearn.preprocessing import MinMaxScaler\n",
    "from sklearn.linear_model import LinearRegression\n",
    "from sklearn.metrics import mean_squared_error, r2_score\n",
    "\n",
    "import joblib\n",
    "\n",
    "model_filename = './model.pkl'\n",
    "imputer_filename = './imputer.pkl'\n",
    "scaler_filename = './scaler.pkl'\n",
    "\n",
    "def preprocess_data(data, imputer=None, scaler=None):\n",
    "\n",
    "# -------------------------- 请调整你的数据预处理过程 ---------------------------\n",
    "## 输入：\n",
    "#### data 为 pandas.DataFrame类型数据\n",
    "#### imputer 为缺失值填充方式\n",
    "#### scaler 为数据归一化方式\n",
    "## 输出：\n",
    "#### data_norm 为处理后的数据，为 pandas.DataFrame类型数据\n",
    "\n",
    "    column_name = ['Year', 'Life expectancy ', 'infant deaths', 'Alcohol',\n",
    "               'percentage expenditure', 'Hepatitis B', 'Measles ', ' BMI ', 'under-five deaths ',\n",
    "               'Polio', 'Total expenditure', 'Diphtheria ', ' HIV/AIDS', 'GDP', 'Population',\n",
    "               ' thinness  1-19 years', ' thinness 5-9 years', 'Income composition of resources',\n",
    "               'Schooling']\n",
    "    data = data.drop([\"Country\", \"Status\"], axis=1)\n",
    "\n",
    "    if imputer==None:\n",
    "        imputer = SimpleImputer(strategy='mean', missing_values=np.nan)\n",
    "        imputer = imputer.fit(data[column_name])\n",
    "    data[column_name] = imputer.transform(data[column_name])\n",
    "\n",
    "    if scaler==None:\n",
    "        scaler = MinMaxScaler()\n",
    "        scaler = scaler.fit(data)\n",
    "    data_norm = pd.DataFrame(scaler.transform(data), columns=data.columns)\n",
    "\n",
    "    data_norm = data_norm.drop(['Year'], axis = 1)\n",
    "\n",
    "    return data_norm\n",
    "\n",
    "def predict(test_data):\n",
    "\n",
    "# -------------------------- 请加载您最满意的模型 ---------------------------\n",
    "# 加载模型(请加载你认为的最佳模型)\n",
    "# 加载模型,加载请注意 filename 是相对路径, 与当前文件同级。\n",
    "# test_data 为 pandas.DataFrame类型数据\n",
    "    loaded_model = joblib.load(model_filename)\n",
    "    imputer = joblib.load(imputer_filename)\n",
    "    scaler = joblib.load(scaler_filename)\n",
    "\n",
    "    test_data_norm = preprocess_data(test_data, imputer, scaler)\n",
    "    test_x = test_data_norm.values\n",
    "    predictions = loaded_model.predict(test_x)\n",
    "\n",
    "    return predictions\n"
   ]
  }
 ],
 "metadata": {
  "kernelspec": {
   "display_name": "ai",
   "language": "python",
   "name": "python3"
  },
  "language_info": {
   "codemirror_mode": {
    "name": "ipython",
    "version": 3
   },
   "file_extension": ".py",
   "mimetype": "text/x-python",
   "name": "python",
   "nbconvert_exporter": "python",
   "pygments_lexer": "ipython3",
   "version": "3.10.14"
  }
 },
 "nbformat": 4,
 "nbformat_minor": 5
}
